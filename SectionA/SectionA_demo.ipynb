{
 "cells": [
  {
   "cell_type": "markdown",
   "id": "4fffec62-589f-473e-8824-9608b02c2f5b",
   "metadata": {},
   "source": [
    "# Section A"
   ]
  },
  {
   "cell_type": "code",
   "execution_count": 1,
   "id": "37769c96-fdbd-41b1-a342-f00ad751ef9d",
   "metadata": {},
   "outputs": [
    {
     "name": "stdout",
     "output_type": "stream",
     "text": [
      "23/06/25 13:37:56 WARN Utils: Your hostname, YuHsins-MacBook-Pro.local resolves to a loopback address: 127.0.0.1; using 192.168.1.224 instead (on interface en0)\n",
      "23/06/25 13:37:56 WARN Utils: Set SPARK_LOCAL_IP if you need to bind to another address\n"
     ]
    },
    {
     "name": "stderr",
     "output_type": "stream",
     "text": [
      "Setting default log level to \"WARN\".\n",
      "To adjust logging level use sc.setLogLevel(newLevel). For SparkR, use setLogLevel(newLevel).\n"
     ]
    },
    {
     "name": "stdout",
     "output_type": "stream",
     "text": [
      "23/06/25 13:37:56 WARN NativeCodeLoader: Unable to load native-hadoop library for your platform... using builtin-java classes where applicable\n"
     ]
    }
   ],
   "source": [
    "%run NASA_log_analytics"
   ]
  },
  {
   "cell_type": "code",
   "execution_count": 2,
   "id": "6a9cb4e8-f60b-4d36-8b4f-2a69f0169f5f",
   "metadata": {},
   "outputs": [
    {
     "name": "stderr",
     "output_type": "stream",
     "text": [
      "                                                                                \r"
     ]
    },
    {
     "name": "stdout",
     "output_type": "stream",
     "text": [
      "+-------------+-----------------------------------------------+------+\n",
      "|Day in a week|endpoint                                       |status|\n",
      "+-------------+-----------------------------------------------+------+\n",
      "|Saturday     |/history/apollo/                               |200   |\n",
      "|Saturday     |/shuttle/countdown/                            |200   |\n",
      "|Saturday     |/shuttle/missions/sts-73/mission-sts-73.html   |200   |\n",
      "|Saturday     |/shuttle/countdown/liftoff.html                |304   |\n",
      "|Saturday     |/shuttle/missions/sts-73/sts-73-patch-small.gif|200   |\n",
      "|Saturday     |/images/NASA-logosmall.gif                     |304   |\n",
      "|Saturday     |/shuttle/countdown/video/livevideo.gif         |200   |\n",
      "|Saturday     |/shuttle/countdown/countdown.html              |200   |\n",
      "|Saturday     |/shuttle/countdown/                            |200   |\n",
      "|Saturday     |/                                              |200   |\n",
      "+-------------+-----------------------------------------------+------+\n",
      "only showing top 10 rows\n",
      "\n",
      "(3461613, 3)\n"
     ]
    }
   ],
   "source": [
    "logs_df = create_logs_df()\n",
    "\n",
    "logs_df.show(10, truncate=False)\n",
    "print((logs_df.count(), len(logs_df.columns)))"
   ]
  },
  {
   "cell_type": "markdown",
   "id": "047f27cc-fa86-4e0a-9de3-b77933dd34c8",
   "metadata": {},
   "source": [
    "## 3.1\n",
    "Generate the output presenting the endpoint that received the highest number of invocations on a specific day of the week, along with the corresponding count of invocations."
   ]
  },
  {
   "cell_type": "code",
   "execution_count": 3,
   "id": "fa603896-3549-4811-8267-038d52fa294c",
   "metadata": {},
   "outputs": [
    {
     "name": "stderr",
     "output_type": "stream",
     "text": [
      "[Stage 4:=============================>                             (1 + 1) / 2]\r"
     ]
    },
    {
     "name": "stdout",
     "output_type": "stream",
     "text": [
      "+-------------+--------------------------+-----+\n",
      "|Day in a week|endpoint                  |count|\n",
      "+-------------+--------------------------+-----+\n",
      "|Friday       |/images/NASA-logosmall.gif|29139|\n",
      "|Monday       |/images/NASA-logosmall.gif|30380|\n",
      "|Saturday     |/images/NASA-logosmall.gif|16168|\n",
      "|Sunday       |/images/KSC-logosmall.gif |15218|\n",
      "|Thursday     |/images/NASA-logosmall.gif|46920|\n",
      "|Tuesday      |/images/NASA-logosmall.gif|33685|\n",
      "|Wednesday    |/images/NASA-logosmall.gif|37598|\n",
      "+-------------+--------------------------+-----+\n",
      "\n"
     ]
    },
    {
     "name": "stderr",
     "output_type": "stream",
     "text": [
      "                                                                                \r"
     ]
    }
   ],
   "source": [
    "top_invocation = endpoint_invocations_by_day(logs_df)\n",
    "\n",
    "top_invocation.show(truncate=False)"
   ]
  },
  {
   "cell_type": "markdown",
   "id": "4955ba14-a1a8-4791-88ad-d4393bff64f9",
   "metadata": {},
   "source": [
    "## 3.2\n",
    "Total number of 404 status codes generated in each day of a week(For Monday, Tuesday,..… Sunday) for the entire dataset."
   ]
  },
  {
   "cell_type": "code",
   "execution_count": 4,
   "id": "85222e8b-b4b7-4c24-804d-87904f3a3e9c",
   "metadata": {},
   "outputs": [
    {
     "name": "stderr",
     "output_type": "stream",
     "text": [
      "[Stage 10:=============================>                            (1 + 1) / 2]\r"
     ]
    },
    {
     "name": "stdout",
     "output_type": "stream",
     "text": [
      "+-------------+------+-----+\n",
      "|Day in a week|status|count|\n",
      "+-------------+------+-----+\n",
      "|Saturday     |404   |2069 |\n",
      "|Wednesday    |404   |3397 |\n",
      "|Sunday       |404   |2400 |\n",
      "|Friday       |404   |2691 |\n",
      "|Tuesday      |404   |3425 |\n",
      "|Monday       |404   |3145 |\n",
      "|Thursday     |404   |3772 |\n",
      "+-------------+------+-----+\n",
      "\n"
     ]
    },
    {
     "name": "stderr",
     "output_type": "stream",
     "text": [
      "                                                                                \r"
     ]
    }
   ],
   "source": [
    "status404_Count = status404_Count_by_Day(logs_df)\n",
    "\n",
    "status404_Count.show(truncate=False)"
   ]
  },
  {
   "cell_type": "code",
   "execution_count": 5,
   "id": "2d569e87-09ea-4c98-be6e-38c019d9488f",
   "metadata": {},
   "outputs": [
    {
     "name": "stderr",
     "output_type": "stream",
     "text": [
      "                                                                                \r"
     ]
    },
    {
     "data": {
      "text/plain": [
       "<AxesSubplot: xlabel='Day in a week', ylabel='count'>"
      ]
     },
     "execution_count": 5,
     "metadata": {},
     "output_type": "execute_result"
    },
    {
     "data": {
      "image/png": "[encoded data removed]",
      "text/plain": [
       "<Figure size 640x480 with 1 Axes>"
      ]
     },
     "metadata": {},
     "output_type": "display_data"
    }
   ],
   "source": [
    "import matplotlib.pyplot as plt\n",
    "import seaborn as sns\n",
    "\n",
    "sns.set_theme()\n",
    "\n",
    "status_df = (status404_Count.toPandas().sort_values(by=['count'], ascending=False))\n",
    "\n",
    "sns.barplot(x='Day in a week', y='count', data=status_df)"
   ]
  }
 ],
 "metadata": {
  "kernelspec": {
   "display_name": "Python 3 (ipykernel)",
   "language": "python",
   "name": "python3"
  },
  "language_info": {
   "codemirror_mode": {
    "name": "ipython",
    "version": 3
   },
   "file_extension": ".py",
   "mimetype": "text/x-python",
   "name": "python",
   "nbconvert_exporter": "python",
   "pygments_lexer": "ipython3",
   "version": "3.10.6"
  }
 },
 "nbformat": 4,
 "nbformat_minor": 5
}
