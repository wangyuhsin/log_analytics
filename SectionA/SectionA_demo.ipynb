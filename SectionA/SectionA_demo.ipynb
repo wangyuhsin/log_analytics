{
 "cells": [
  {
   "attachments": {},
   "cell_type": "markdown",
   "id": "4fffec62-589f-473e-8824-9608b02c2f5b",
   "metadata": {},
   "source": [
    "# Section A"
   ]
  },
  {
   "cell_type": "code",
   "execution_count": 61,
   "id": "37769c96-fdbd-41b1-a342-f00ad751ef9d",
   "metadata": {},
   "outputs": [],
   "source": [
    "%run NASA_log_analytics"
   ]
  },
  {
   "cell_type": "code",
   "execution_count": 48,
   "id": "2bae40c2",
   "metadata": {},
   "outputs": [],
   "source": [
    "import matplotlib.pyplot as plt\n",
    "import seaborn as sns"
   ]
  },
  {
   "attachments": {},
   "cell_type": "markdown",
   "id": "24b7cc03",
   "metadata": {},
   "source": [
    "### Loading and Parsing NASA Log Dataset and Format Columns"
   ]
  },
  {
   "cell_type": "code",
   "execution_count": 49,
   "id": "6a9cb4e8-f60b-4d36-8b4f-2a69f0169f5f",
   "metadata": {},
   "outputs": [
    {
     "name": "stderr",
     "output_type": "stream",
     "text": [
      "                                                                                \r"
     ]
    },
    {
     "name": "stdout",
     "output_type": "stream",
     "text": [
      "+-------------+-------------------+--------------------+------+-----------------------------------------------+--------+------+------------+\n",
      "|Day in a week|timestamp          |host                |method|endpoint                                       |protocol|status|content_size|\n",
      "+-------------+-------------------+--------------------+------+-----------------------------------------------+--------+------+------------+\n",
      "|Saturday     |1995-07-01 00:00:01|199.72.81.55        |GET   |/history/apollo/                               |HTTP/1.0|200   |6245        |\n",
      "|Saturday     |1995-07-01 00:00:06|unicomp6.unicomp.net|GET   |/shuttle/countdown/                            |HTTP/1.0|200   |3985        |\n",
      "|Saturday     |1995-07-01 00:00:09|199.120.110.21      |GET   |/shuttle/missions/sts-73/mission-sts-73.html   |HTTP/1.0|200   |4085        |\n",
      "|Saturday     |1995-07-01 00:00:11|burger.letters.com  |GET   |/shuttle/countdown/liftoff.html                |HTTP/1.0|304   |0           |\n",
      "|Saturday     |1995-07-01 00:00:11|199.120.110.21      |GET   |/shuttle/missions/sts-73/sts-73-patch-small.gif|HTTP/1.0|200   |4179        |\n",
      "|Saturday     |1995-07-01 00:00:12|burger.letters.com  |GET   |/images/NASA-logosmall.gif                     |HTTP/1.0|304   |0           |\n",
      "|Saturday     |1995-07-01 00:00:12|burger.letters.com  |GET   |/shuttle/countdown/video/livevideo.gif         |HTTP/1.0|200   |0           |\n",
      "|Saturday     |1995-07-01 00:00:12|205.212.115.106     |GET   |/shuttle/countdown/countdown.html              |HTTP/1.0|200   |3985        |\n",
      "|Saturday     |1995-07-01 00:00:13|d104.aa.net         |GET   |/shuttle/countdown/                            |HTTP/1.0|200   |3985        |\n",
      "|Saturday     |1995-07-01 00:00:13|129.94.144.152      |GET   |/                                              |HTTP/1.0|200   |7074        |\n",
      "+-------------+-------------------+--------------------+------+-----------------------------------------------+--------+------+------------+\n",
      "only showing top 10 rows\n",
      "\n"
     ]
    },
    {
     "name": "stderr",
     "output_type": "stream",
     "text": [
      "[Stage 75:=============================>                            (1 + 1) / 2]\r"
     ]
    },
    {
     "name": "stdout",
     "output_type": "stream",
     "text": [
      "(3461612, 8)\n"
     ]
    },
    {
     "name": "stderr",
     "output_type": "stream",
     "text": [
      "                                                                                \r"
     ]
    }
   ],
   "source": [
    "logs_df = create_logs_df()\n",
    "logs_df = logs_df[logs_df['status'].isNotNull()]\n",
    "\n",
    "logs_df.show(10, truncate=False)\n",
    "print((logs_df.count(), len(logs_df.columns)))"
   ]
  },
  {
   "attachments": {},
   "cell_type": "markdown",
   "id": "ca3c681c",
   "metadata": {},
   "source": [
    "### Handling Missing Data"
   ]
  },
  {
   "attachments": {},
   "cell_type": "markdown",
   "id": "0f2a4ccb",
   "metadata": {},
   "source": [
    "Count the total number of rows has missing values\n"
   ]
  },
  {
   "cell_type": "code",
   "execution_count": 27,
   "id": "1c87abfa",
   "metadata": {},
   "outputs": [
    {
     "name": "stderr",
     "output_type": "stream",
     "text": [
      "                                                                                \r"
     ]
    },
    {
     "data": {
      "text/plain": [
       "33904"
      ]
     },
     "execution_count": 27,
     "metadata": {},
     "output_type": "execute_result"
    }
   ],
   "source": [
    "count_null(logs_df)"
   ]
  },
  {
   "attachments": {},
   "cell_type": "markdown",
   "id": "132feb61",
   "metadata": {},
   "source": [
    "Count the number of missing values for each column"
   ]
  },
  {
   "cell_type": "code",
   "execution_count": 30,
   "id": "737b8b77",
   "metadata": {},
   "outputs": [
    {
     "name": "stderr",
     "output_type": "stream",
     "text": [
      "[Stage 57:=============================>                            (1 + 1) / 2]\r"
     ]
    },
    {
     "name": "stdout",
     "output_type": "stream",
     "text": [
      "+-------------+----+---------+------+--------+--------+------+------------+\n",
      "|Day in a week|host|timestamp|method|endpoint|protocol|status|content_size|\n",
      "+-------------+----+---------+------+--------+--------+------+------------+\n",
      "|            0|   0|        0|     0|       0|       0|     0|       33904|\n",
      "+-------------+----+---------+------+--------+--------+------+------------+\n",
      "\n"
     ]
    },
    {
     "name": "stderr",
     "output_type": "stream",
     "text": [
      "                                                                                \r"
     ]
    }
   ],
   "source": [
    "count_null_cols(logs_df).show()"
   ]
  },
  {
   "attachments": {},
   "cell_type": "markdown",
   "id": "434c27d7",
   "metadata": {},
   "source": [
    "### Fix the rows with null content_size\n",
    "\n"
   ]
  },
  {
   "cell_type": "code",
   "execution_count": 34,
   "id": "f35eb6b0",
   "metadata": {},
   "outputs": [
    {
     "name": "stderr",
     "output_type": "stream",
     "text": [
      "[Stage 60:=============================>                            (1 + 1) / 2]\r"
     ]
    },
    {
     "name": "stdout",
     "output_type": "stream",
     "text": [
      "+-------------+----+---------+------+--------+--------+------+------------+\n",
      "|Day in a week|host|timestamp|method|endpoint|protocol|status|content_size|\n",
      "+-------------+----+---------+------+--------+--------+------+------------+\n",
      "|            0|   0|        0|     0|       0|       0|     0|           0|\n",
      "+-------------+----+---------+------+--------+--------+------+------------+\n",
      "\n"
     ]
    },
    {
     "name": "stderr",
     "output_type": "stream",
     "text": [
      "                                                                                \r"
     ]
    }
   ],
   "source": [
    "logs_df = fill_null(logs_df)\n",
    "count_null_cols(logs_df).show()"
   ]
  },
  {
   "attachments": {},
   "cell_type": "markdown",
   "id": "89255b66",
   "metadata": {},
   "source": [
    "Now we use this function and fill all the missing values in the content_size field with 0!"
   ]
  },
  {
   "attachments": {},
   "cell_type": "markdown",
   "id": "c30c60ac",
   "metadata": {},
   "source": [
    "### Content Size"
   ]
  },
  {
   "cell_type": "code",
   "execution_count": 50,
   "id": "f54348ca",
   "metadata": {},
   "outputs": [
    {
     "name": "stderr",
     "output_type": "stream",
     "text": [
      "                                                                                \r"
     ]
    },
    {
     "data": {
      "text/html": [
       "<div>\n",
       "<style scoped>\n",
       "    .dataframe tbody tr th:only-of-type {\n",
       "        vertical-align: middle;\n",
       "    }\n",
       "\n",
       "    .dataframe tbody tr th {\n",
       "        vertical-align: top;\n",
       "    }\n",
       "\n",
       "    .dataframe thead th {\n",
       "        text-align: right;\n",
       "    }\n",
       "</style>\n",
       "<table border=\"1\" class=\"dataframe\">\n",
       "  <thead>\n",
       "    <tr style=\"text-align: right;\">\n",
       "      <th></th>\n",
       "      <th>summary</th>\n",
       "      <th>content_size</th>\n",
       "    </tr>\n",
       "  </thead>\n",
       "  <tbody>\n",
       "    <tr>\n",
       "      <th>0</th>\n",
       "      <td>count</td>\n",
       "      <td>3427708</td>\n",
       "    </tr>\n",
       "    <tr>\n",
       "      <th>1</th>\n",
       "      <td>mean</td>\n",
       "      <td>19116.072581153352</td>\n",
       "    </tr>\n",
       "    <tr>\n",
       "      <th>2</th>\n",
       "      <td>stddev</td>\n",
       "      <td>73367.3795143063</td>\n",
       "    </tr>\n",
       "    <tr>\n",
       "      <th>3</th>\n",
       "      <td>min</td>\n",
       "      <td>0</td>\n",
       "    </tr>\n",
       "    <tr>\n",
       "      <th>4</th>\n",
       "      <td>max</td>\n",
       "      <td>6823936</td>\n",
       "    </tr>\n",
       "  </tbody>\n",
       "</table>\n",
       "</div>"
      ],
      "text/plain": [
       "  summary        content_size\n",
       "0   count             3427708\n",
       "1    mean  19116.072581153352\n",
       "2  stddev    73367.3795143063\n",
       "3     min                   0\n",
       "4     max             6823936"
      ]
     },
     "execution_count": 50,
     "metadata": {},
     "output_type": "execute_result"
    }
   ],
   "source": [
    "content_size_summary_df = logs_df.describe(['content_size'])\n",
    "content_size_summary_df.toPandas()"
   ]
  },
  {
   "cell_type": "code",
   "execution_count": 57,
   "id": "623ada36",
   "metadata": {},
   "outputs": [
    {
     "name": "stderr",
     "output_type": "stream",
     "text": [
      "                                                                                \r"
     ]
    },
    {
     "data": {
      "text/html": [
       "<div>\n",
       "<style scoped>\n",
       "    .dataframe tbody tr th:only-of-type {\n",
       "        vertical-align: middle;\n",
       "    }\n",
       "\n",
       "    .dataframe tbody tr th {\n",
       "        vertical-align: top;\n",
       "    }\n",
       "\n",
       "    .dataframe thead th {\n",
       "        text-align: right;\n",
       "    }\n",
       "</style>\n",
       "<table border=\"1\" class=\"dataframe\">\n",
       "  <thead>\n",
       "    <tr style=\"text-align: right;\">\n",
       "      <th></th>\n",
       "      <th>min_content_size</th>\n",
       "      <th>max_content_size</th>\n",
       "      <th>mean_content_size</th>\n",
       "      <th>std_content_size</th>\n",
       "      <th>count_content_size</th>\n",
       "    </tr>\n",
       "  </thead>\n",
       "  <tbody>\n",
       "    <tr>\n",
       "      <th>0</th>\n",
       "      <td>0</td>\n",
       "      <td>6823936</td>\n",
       "      <td>19116.072581</td>\n",
       "      <td>73367.379514</td>\n",
       "      <td>3427708</td>\n",
       "    </tr>\n",
       "  </tbody>\n",
       "</table>\n",
       "</div>"
      ],
      "text/plain": [
       "   min_content_size  max_content_size  mean_content_size  std_content_size  \\\n",
       "0                 0           6823936       19116.072581      73367.379514   \n",
       "\n",
       "   count_content_size  \n",
       "0             3427708  "
      ]
     },
     "execution_count": 57,
     "metadata": {},
     "output_type": "execute_result"
    }
   ],
   "source": [
    "(logs_df.agg(F.min(logs_df['content_size']).alias('min_content_size'),\n",
    "             F.max(logs_df['content_size']).alias('max_content_size'),\n",
    "             F.mean(logs_df['content_size']).alias('mean_content_size'),\n",
    "             F.stddev(logs_df['content_size']).alias('std_content_size'),\n",
    "             F.count(logs_df['content_size']).alias('count_content_size'))\n",
    "        .toPandas())"
   ]
  },
  {
   "attachments": {},
   "cell_type": "markdown",
   "id": "f960d089",
   "metadata": {},
   "source": [
    "### HTTP Status Code Analysis"
   ]
  },
  {
   "cell_type": "code",
   "execution_count": 59,
   "id": "8f2978fc",
   "metadata": {},
   "outputs": [
    {
     "name": "stdout",
     "output_type": "stream",
     "text": [
      "23/06/30 22:01:27 WARN CacheManager: Asked to cache already cached data.\n"
     ]
    },
    {
     "name": "stderr",
     "output_type": "stream",
     "text": [
      "[Stage 95:>                                                         (0 + 8) / 8]\r"
     ]
    },
    {
     "name": "stdout",
     "output_type": "stream",
     "text": [
      "Total distinct HTTP Status Codes: 8\n"
     ]
    },
    {
     "name": "stderr",
     "output_type": "stream",
     "text": [
      "                                                                                \r"
     ]
    }
   ],
   "source": [
    "status_freq_df = (logs_df\n",
    "                     .groupBy('status')\n",
    "                     .count()\n",
    "                     .sort('status')\n",
    "                     .cache())\n",
    "print('Total distinct HTTP Status Codes:', status_freq_df.count())      "
   ]
  },
  {
   "cell_type": "code",
   "execution_count": 62,
   "id": "b91b2680",
   "metadata": {},
   "outputs": [
    {
     "name": "stderr",
     "output_type": "stream",
     "text": [
      "[Stage 103:============================>                            (1 + 1) / 2]\r"
     ]
    },
    {
     "name": "stdout",
     "output_type": "stream",
     "text": [
      "+------+-------+\n",
      "|status|count  |\n",
      "+------+-------+\n",
      "|200   |3100524|\n",
      "|304   |266773 |\n",
      "|302   |73070  |\n",
      "|404   |20899  |\n",
      "|403   |225    |\n",
      "|500   |65     |\n",
      "|501   |41     |\n",
      "|400   |15     |\n",
      "+------+-------+\n",
      "\n"
     ]
    },
    {
     "name": "stderr",
     "output_type": "stream",
     "text": [
      "                                                                                \r"
     ]
    }
   ],
   "source": [
    "status_freq = status_Count_by_Day(logs_df)\n",
    "status_freq.show(truncate=False)"
   ]
  },
  {
   "cell_type": "code",
   "execution_count": null,
   "id": "7c01ef56",
   "metadata": {},
   "outputs": [
    {
     "data": {
      "image/png": "[encoded data removed]",
      "text/plain": [
       "<Figure size 500x500 with 1 Axes>"
      ]
     },
     "metadata": {},
     "output_type": "display_data"
    }
   ],
   "source": [
    "sns.set_theme()\n",
    "\n",
    "status_freq_df = status_freq.toPandas().sort_values(by=['count'], ascending=False)\n",
    "status_freq_df['status'] = status_freq_df['status'].astype(str)\n",
    "status_freq_df['count'] = status_freq_df['count'].astype(int)\n",
    "sns.catplot(x='status', y='count', data=status_freq_df, \n",
    "            kind='bar')\n",
    "# I want to adjust the y-axis labels to be more readable\n",
    "plt.yticks([500000, 1000000, 1500000, 2000000, 2500000, 3000000, 3500000],\n",
    "              ['500K', '1M', '1.5M', '2M', '2.5M', '3M', '3.5M'])\n",
    "plt.show()"
   ]
  },
  {
   "cell_type": "code",
   "execution_count": null,
   "id": "470a8c87",
   "metadata": {},
   "outputs": [
    {
     "name": "stderr",
     "output_type": "stream",
     "text": [
      "[Stage 31:=============================>                            (1 + 1) / 2]\r"
     ]
    },
    {
     "name": "stdout",
     "output_type": "stream",
     "text": [
      "+---------------------------------------+------+\n",
      "|endpoint                               |count |\n",
      "+---------------------------------------+------+\n",
      "|/images/NASA-logosmall.gif             |168632|\n",
      "|/images/KSC-logosmall.gif              |141207|\n",
      "|/images/MOSAIC-logosmall.gif           |112663|\n",
      "|/images/USA-logosmall.gif              |111932|\n",
      "|/images/WORLD-logosmall.gif            |111152|\n",
      "|/images/ksclogo-medium.gif             |108013|\n",
      "|/ksc.html                              |79993 |\n",
      "|/images/launch-logo.gif                |67200 |\n",
      "|/history/apollo/images/apollo-logo1.gif|61407 |\n",
      "|/shuttle/countdown/                    |59177 |\n",
      "+---------------------------------------+------+\n",
      "\n"
     ]
    },
    {
     "name": "stderr",
     "output_type": "stream",
     "text": [
      "                                                                                \r"
     ]
    }
   ],
   "source": [
    "# Since the status code 200 is the most frequent, I want to see the top 10 endpoints that have status code 200\n",
    "logs_df.createOrReplaceTempView(\"invocations\")\n",
    "\n",
    "query = \"\"\"\n",
    "SELECT endpoint, COUNT(*) AS count\n",
    "FROM invocations\n",
    "WHERE status == 200\n",
    "GROUP BY endpoint\n",
    "ORDER BY count DESC\n",
    "LIMIT 10\n",
    "\"\"\"\n",
    "result = ss.sql(query)\n",
    "\n",
    "result.show(truncate=False)"
   ]
  },
  {
   "attachments": {},
   "cell_type": "markdown",
   "id": "c8592349",
   "metadata": {},
   "source": [
    "### Status Frequence in Log Scale"
   ]
  },
  {
   "cell_type": "code",
   "execution_count": null,
   "id": "9d6d8081",
   "metadata": {},
   "outputs": [
    {
     "name": "stderr",
     "output_type": "stream",
     "text": [
      "                                                                                \r"
     ]
    },
    {
     "data": {
      "image/png": "[encoded data removed]",
      "text/plain": [
       "<Figure size 500x500 with 1 Axes>"
      ]
     },
     "metadata": {},
     "output_type": "display_data"
    }
   ],
   "source": [
    "#Since the y-axis labels are not readable, I want to adjust the y-axis labels to be more readable -> using log scale\n",
    "sns.set_theme()\n",
    "\n",
    "status_freq_df = status_freq.toPandas().sort_values(by=['count'], ascending=False)\n",
    "status_freq_df['status'] = status_freq_df['status'].astype(str)\n",
    "status_freq_df['count'] = status_freq_df['count'].astype(int)\n",
    "sns.catplot(x='status', y='count', data=status_freq_df, \n",
    "            kind='bar')\n",
    "# I want to adjust the y-axis labels to be more readable\n",
    "plt.yticks([500000, 1000000, 1500000, 2000000, 2500000, 3000000, 3500000],\n",
    "              ['500K', '1M', '1.5M', '2M', '2.5M', '3M', '3.5M'])\n",
    "plt.yscale('log')\n",
    "plt.show()\n"
   ]
  },
  {
   "attachments": {},
   "cell_type": "markdown",
   "id": "5099f649",
   "metadata": {},
   "source": [
    "### Analyzing Frequent Hosts"
   ]
  },
  {
   "cell_type": "code",
   "execution_count": null,
   "id": "c1bd1800",
   "metadata": {},
   "outputs": [
    {
     "name": "stderr",
     "output_type": "stream",
     "text": [
      "[Stage 30:>                                                         (0 + 4) / 4]\r"
     ]
    },
    {
     "name": "stdout",
     "output_type": "stream",
     "text": [
      "+--------------------+-----+\n",
      "|host                |count|\n",
      "+--------------------+-----+\n",
      "|piweba3y.prodigy.com|21988|\n",
      "|piweba4y.prodigy.com|16437|\n",
      "|piweba1y.prodigy.com|12825|\n",
      "|edams.ksc.nasa.gov  |11964|\n",
      "|163.206.89.4        |9697 |\n",
      "|news.ti.com         |8161 |\n",
      "|www-d1.proxy.aol.com|8047 |\n",
      "|alyssa.prodigy.com  |8037 |\n",
      "|                    |7660 |\n",
      "|siltb10.orl.mmc.com |7573 |\n",
      "+--------------------+-----+\n",
      "only showing top 10 rows\n",
      "\n"
     ]
    },
    {
     "name": "stderr",
     "output_type": "stream",
     "text": [
      "                                                                                \r"
     ]
    }
   ],
   "source": [
    "top_host_df = top_host(logs_df)\n",
    "top_host_df.show(10, truncate=False)"
   ]
  },
  {
   "attachments": {},
   "cell_type": "markdown",
   "id": "5fb4190d",
   "metadata": {},
   "source": [
    "### Display the Top 20 Frequent EndPoints"
   ]
  },
  {
   "cell_type": "code",
   "execution_count": null,
   "id": "b419c05c",
   "metadata": {},
   "outputs": [
    {
     "name": "stderr",
     "output_type": "stream",
     "text": [
      "[Stage 47:=============================>                            (1 + 1) / 2]\r"
     ]
    },
    {
     "name": "stdout",
     "output_type": "stream",
     "text": [
      "+---------------------------------------+------+\n",
      "|endpoint                               |count |\n",
      "+---------------------------------------+------+\n",
      "|/images/NASA-logosmall.gif             |208714|\n",
      "|/images/KSC-logosmall.gif              |164970|\n",
      "|/images/MOSAIC-logosmall.gif           |127908|\n",
      "|/images/USA-logosmall.gif              |127074|\n",
      "|/images/WORLD-logosmall.gif            |125925|\n",
      "|/images/ksclogo-medium.gif             |121572|\n",
      "|/ksc.html                              |83909 |\n",
      "|/images/launch-logo.gif                |76006 |\n",
      "|/history/apollo/images/apollo-logo1.gif|68896 |\n",
      "|/shuttle/countdown/                    |64736 |\n",
      "+---------------------------------------+------+\n",
      "\n"
     ]
    },
    {
     "name": "stderr",
     "output_type": "stream",
     "text": [
      "                                                                                \r"
     ]
    }
   ],
   "source": [
    "top_endpoint_df = top_10_endpoint(logs_df)\n",
    "top_endpoint_df.show(10, truncate=False)"
   ]
  },
  {
   "attachments": {},
   "cell_type": "markdown",
   "id": "d32b71b3",
   "metadata": {},
   "source": [
    "### Top Ten Error Endpoints\n"
   ]
  },
  {
   "cell_type": "code",
   "execution_count": 63,
   "id": "cee000e7",
   "metadata": {},
   "outputs": [
    {
     "name": "stderr",
     "output_type": "stream",
     "text": [
      "[Stage 106:=========================================================(2 + 0) / 2]\r"
     ]
    },
    {
     "name": "stdout",
     "output_type": "stream",
     "text": [
      "+---------------------------------------+-----+\n",
      "|endpoint                               |count|\n",
      "+---------------------------------------+-----+\n",
      "|/images/NASA-logosmall.gif             |40082|\n",
      "|/images/KSC-logosmall.gif              |23763|\n",
      "|/images/MOSAIC-logosmall.gif           |15245|\n",
      "|/images/USA-logosmall.gif              |15142|\n",
      "|/images/WORLD-logosmall.gif            |14773|\n",
      "|/images/ksclogo-medium.gif             |13559|\n",
      "|/images/launch-logo.gif                |8806 |\n",
      "|/history/apollo/images/apollo-logo1.gif|7489 |\n",
      "|/                                      |6296 |\n",
      "|/images/ksclogosmall.gif               |5669 |\n",
      "+---------------------------------------+-----+\n",
      "\n"
     ]
    },
    {
     "name": "stderr",
     "output_type": "stream",
     "text": [
      "                                                                                \r"
     ]
    }
   ],
   "source": [
    "not200_df = (logs_df\n",
    "               .filter(logs_df['status'] != 200))\n",
    "\n",
    "error_endpoints_freq_df = (not200_df\n",
    "                               .groupBy('endpoint')\n",
    "                               .count()\n",
    "                               .sort('count', ascending=False)\n",
    "                               .limit(10)\n",
    "                          )\n",
    "                          \n",
    "error_endpoints_freq_df.show(truncate=False)  "
   ]
  },
  {
   "attachments": {},
   "cell_type": "markdown",
   "id": "510e292a",
   "metadata": {},
   "source": [
    "### Total number of Unique Hosts\n"
   ]
  },
  {
   "cell_type": "code",
   "execution_count": 64,
   "id": "0493c455",
   "metadata": {},
   "outputs": [
    {
     "name": "stderr",
     "output_type": "stream",
     "text": [
      "                                                                                \r"
     ]
    },
    {
     "data": {
      "text/plain": [
       "137933"
      ]
     },
     "execution_count": 64,
     "metadata": {},
     "output_type": "execute_result"
    }
   ],
   "source": [
    "unique_host_count = (logs_df\n",
    "                     .select('host')\n",
    "                     .distinct()\n",
    "                     .count())\n",
    "unique_host_count"
   ]
  },
  {
   "attachments": {},
   "cell_type": "markdown",
   "id": "07f9a451",
   "metadata": {},
   "source": [
    "### Number of Unique Daily Hosts\n"
   ]
  },
  {
   "cell_type": "code",
   "execution_count": 66,
   "id": "62eb5948",
   "metadata": {},
   "outputs": [
    {
     "name": "stderr",
     "output_type": "stream",
     "text": [
      "[Stage 115:>                                                        (0 + 1) / 1]\r"
     ]
    },
    {
     "name": "stdout",
     "output_type": "stream",
     "text": [
      "+--------------------+---+\n",
      "|host                |day|\n",
      "+--------------------+---+\n",
      "|199.72.81.55        |1  |\n",
      "|unicomp6.unicomp.net|1  |\n",
      "|199.120.110.21      |1  |\n",
      "|burger.letters.com  |1  |\n",
      "|199.120.110.21      |1  |\n",
      "+--------------------+---+\n",
      "only showing top 5 rows\n",
      "\n"
     ]
    },
    {
     "name": "stderr",
     "output_type": "stream",
     "text": [
      "                                                                                \r"
     ]
    }
   ],
   "source": [
    "host_day_df = logs_df.select(logs_df.host, \n",
    "                             F.dayofmonth('timestamp').alias('day'))\n",
    "host_day_df.show(5, truncate=False)"
   ]
  },
  {
   "cell_type": "code",
   "execution_count": 67,
   "id": "e6918a2e",
   "metadata": {},
   "outputs": [
    {
     "name": "stderr",
     "output_type": "stream",
     "text": [
      "[Stage 116:============================>                            (1 + 1) / 2]\r"
     ]
    },
    {
     "name": "stdout",
     "output_type": "stream",
     "text": [
      "+-----------------------+---+\n",
      "|host                   |day|\n",
      "+-----------------------+---+\n",
      "|129.94.144.152         |1  |\n",
      "|slip1.yab.com          |1  |\n",
      "|205.184.190.47         |1  |\n",
      "|204.120.34.71          |1  |\n",
      "|ppp3_130.bekkoame.or.jp|1  |\n",
      "+-----------------------+---+\n",
      "only showing top 5 rows\n",
      "\n"
     ]
    },
    {
     "name": "stderr",
     "output_type": "stream",
     "text": [
      "                                                                                \r"
     ]
    }
   ],
   "source": [
    "host_day_distinct_df = (host_day_df\n",
    "                          .dropDuplicates())\n",
    "host_day_distinct_df.show(5, truncate=False)"
   ]
  },
  {
   "cell_type": "code",
   "execution_count": 74,
   "id": "46198866",
   "metadata": {},
   "outputs": [
    {
     "name": "stderr",
     "output_type": "stream",
     "text": [
      "[Stage 121:>                                                        (0 + 5) / 5]\r"
     ]
    },
    {
     "name": "stdout",
     "output_type": "stream",
     "text": [
      "+---+-----+\n",
      "|day|count|\n",
      "+---+-----+\n",
      "|1  |7609 |\n",
      "|2  |4858 |\n",
      "|3  |10238|\n",
      "|4  |9411 |\n",
      "|5  |9640 |\n",
      "|6  |10133|\n",
      "|7  |10048|\n",
      "|8  |7112 |\n",
      "|9  |6699 |\n",
      "|10 |8532 |\n",
      "|11 |8786 |\n",
      "|12 |8135 |\n",
      "|13 |9567 |\n",
      "|14 |9302 |\n",
      "|15 |7126 |\n",
      "|16 |7143 |\n",
      "|17 |8840 |\n",
      "|18 |8262 |\n",
      "|19 |7237 |\n",
      "|20 |7072 |\n",
      "+---+-----+\n",
      "only showing top 20 rows\n",
      "\n"
     ]
    },
    {
     "name": "stderr",
     "output_type": "stream",
     "text": [
      "                                                                                \r"
     ]
    }
   ],
   "source": [
    "host_day_df = logs_df.select(logs_df.host, F.dayofmonth('timestamp').alias('day'))\n",
    "host_day_distinct_df = (host_day_df.dropDuplicates())\n",
    "# aggregate by the day of month\n",
    "daily_hosts_df = (host_day_distinct_df\n",
    "                     .groupBy('day')\n",
    "                     .count()\n",
    "                     .sort(\"day\"))\n",
    "daily_hosts_df.show(truncate=False)"
   ]
  },
  {
   "cell_type": "code",
   "execution_count": 78,
   "id": "a44f80dc",
   "metadata": {},
   "outputs": [
    {
     "name": "stderr",
     "output_type": "stream",
     "text": [
      "                                                                                \r"
     ]
    },
    {
     "data": {
      "image/png": "[encoded data removed]",
      "text/plain": [
       "<Figure size 750x500 with 1 Axes>"
      ]
     },
     "metadata": {},
     "output_type": "display_data"
    }
   ],
   "source": [
    "daily_hosts_df = daily_hosts_df.toPandas()\n",
    "c = sns.catplot(x='day', y='count', \n",
    "                data=daily_hosts_df, \n",
    "                kind='point', height=5, \n",
    "                aspect=1.5)"
   ]
  },
  {
   "attachments": {},
   "cell_type": "markdown",
   "id": "81d2e035",
   "metadata": {},
   "source": [
    "### Average Number of Daily Requests per Host\n"
   ]
  },
  {
   "cell_type": "code",
   "execution_count": 80,
   "id": "1293f224",
   "metadata": {},
   "outputs": [
    {
     "name": "stderr",
     "output_type": "stream",
     "text": [
      "                                                                                \r"
     ]
    },
    {
     "data": {
      "text/html": [
       "<div>\n",
       "<style scoped>\n",
       "    .dataframe tbody tr th:only-of-type {\n",
       "        vertical-align: middle;\n",
       "    }\n",
       "\n",
       "    .dataframe tbody tr th {\n",
       "        vertical-align: top;\n",
       "    }\n",
       "\n",
       "    .dataframe thead th {\n",
       "        text-align: right;\n",
       "    }\n",
       "</style>\n",
       "<table border=\"1\" class=\"dataframe\">\n",
       "  <thead>\n",
       "    <tr style=\"text-align: right;\">\n",
       "      <th></th>\n",
       "      <th>day</th>\n",
       "      <th>total_reqs</th>\n",
       "      <th>total_hosts</th>\n",
       "      <th>avg_reqs</th>\n",
       "    </tr>\n",
       "  </thead>\n",
       "  <tbody>\n",
       "    <tr>\n",
       "      <th>0</th>\n",
       "      <td>1</td>\n",
       "      <td>98710</td>\n",
       "      <td>7609</td>\n",
       "      <td>12.972795</td>\n",
       "    </tr>\n",
       "    <tr>\n",
       "      <th>1</th>\n",
       "      <td>2</td>\n",
       "      <td>60265</td>\n",
       "      <td>4858</td>\n",
       "      <td>12.405311</td>\n",
       "    </tr>\n",
       "    <tr>\n",
       "      <th>2</th>\n",
       "      <td>3</td>\n",
       "      <td>130972</td>\n",
       "      <td>10238</td>\n",
       "      <td>12.792733</td>\n",
       "    </tr>\n",
       "    <tr>\n",
       "      <th>3</th>\n",
       "      <td>4</td>\n",
       "      <td>130009</td>\n",
       "      <td>9411</td>\n",
       "      <td>13.814579</td>\n",
       "    </tr>\n",
       "    <tr>\n",
       "      <th>4</th>\n",
       "      <td>5</td>\n",
       "      <td>126468</td>\n",
       "      <td>9640</td>\n",
       "      <td>13.119087</td>\n",
       "    </tr>\n",
       "    <tr>\n",
       "      <th>5</th>\n",
       "      <td>6</td>\n",
       "      <td>133380</td>\n",
       "      <td>10133</td>\n",
       "      <td>13.162933</td>\n",
       "    </tr>\n",
       "    <tr>\n",
       "      <th>6</th>\n",
       "      <td>7</td>\n",
       "      <td>144595</td>\n",
       "      <td>10048</td>\n",
       "      <td>14.390426</td>\n",
       "    </tr>\n",
       "    <tr>\n",
       "      <th>7</th>\n",
       "      <td>8</td>\n",
       "      <td>99024</td>\n",
       "      <td>7112</td>\n",
       "      <td>13.923510</td>\n",
       "    </tr>\n",
       "    <tr>\n",
       "      <th>8</th>\n",
       "      <td>9</td>\n",
       "      <td>95730</td>\n",
       "      <td>6699</td>\n",
       "      <td>14.290193</td>\n",
       "    </tr>\n",
       "    <tr>\n",
       "      <th>9</th>\n",
       "      <td>10</td>\n",
       "      <td>134108</td>\n",
       "      <td>8532</td>\n",
       "      <td>15.718237</td>\n",
       "    </tr>\n",
       "    <tr>\n",
       "      <th>10</th>\n",
       "      <td>11</td>\n",
       "      <td>141653</td>\n",
       "      <td>8786</td>\n",
       "      <td>16.122581</td>\n",
       "    </tr>\n",
       "    <tr>\n",
       "      <th>11</th>\n",
       "      <td>12</td>\n",
       "      <td>130607</td>\n",
       "      <td>8135</td>\n",
       "      <td>16.054948</td>\n",
       "    </tr>\n",
       "    <tr>\n",
       "      <th>12</th>\n",
       "      <td>13</td>\n",
       "      <td>170683</td>\n",
       "      <td>9567</td>\n",
       "      <td>17.840807</td>\n",
       "    </tr>\n",
       "    <tr>\n",
       "      <th>13</th>\n",
       "      <td>14</td>\n",
       "      <td>143981</td>\n",
       "      <td>9302</td>\n",
       "      <td>15.478499</td>\n",
       "    </tr>\n",
       "    <tr>\n",
       "      <th>14</th>\n",
       "      <td>15</td>\n",
       "      <td>104379</td>\n",
       "      <td>7126</td>\n",
       "      <td>14.647628</td>\n",
       "    </tr>\n",
       "    <tr>\n",
       "      <th>15</th>\n",
       "      <td>16</td>\n",
       "      <td>104507</td>\n",
       "      <td>7143</td>\n",
       "      <td>14.630687</td>\n",
       "    </tr>\n",
       "    <tr>\n",
       "      <th>16</th>\n",
       "      <td>17</td>\n",
       "      <td>133969</td>\n",
       "      <td>8840</td>\n",
       "      <td>15.154864</td>\n",
       "    </tr>\n",
       "    <tr>\n",
       "      <th>17</th>\n",
       "      <td>18</td>\n",
       "      <td>120528</td>\n",
       "      <td>8262</td>\n",
       "      <td>14.588235</td>\n",
       "    </tr>\n",
       "    <tr>\n",
       "      <th>18</th>\n",
       "      <td>19</td>\n",
       "      <td>104832</td>\n",
       "      <td>7237</td>\n",
       "      <td>14.485560</td>\n",
       "    </tr>\n",
       "    <tr>\n",
       "      <th>19</th>\n",
       "      <td>20</td>\n",
       "      <td>99556</td>\n",
       "      <td>7072</td>\n",
       "      <td>14.077489</td>\n",
       "    </tr>\n",
       "    <tr>\n",
       "      <th>20</th>\n",
       "      <td>21</td>\n",
       "      <td>120169</td>\n",
       "      <td>8036</td>\n",
       "      <td>14.953833</td>\n",
       "    </tr>\n",
       "    <tr>\n",
       "      <th>21</th>\n",
       "      <td>22</td>\n",
       "      <td>93029</td>\n",
       "      <td>6828</td>\n",
       "      <td>13.624634</td>\n",
       "    </tr>\n",
       "    <tr>\n",
       "      <th>22</th>\n",
       "      <td>23</td>\n",
       "      <td>97296</td>\n",
       "      <td>6797</td>\n",
       "      <td>14.314551</td>\n",
       "    </tr>\n",
       "    <tr>\n",
       "      <th>23</th>\n",
       "      <td>24</td>\n",
       "      <td>116811</td>\n",
       "      <td>7946</td>\n",
       "      <td>14.700604</td>\n",
       "    </tr>\n",
       "    <tr>\n",
       "      <th>24</th>\n",
       "      <td>25</td>\n",
       "      <td>120020</td>\n",
       "      <td>8333</td>\n",
       "      <td>14.402976</td>\n",
       "    </tr>\n",
       "    <tr>\n",
       "      <th>25</th>\n",
       "      <td>26</td>\n",
       "      <td>90457</td>\n",
       "      <td>6741</td>\n",
       "      <td>13.418929</td>\n",
       "    </tr>\n",
       "    <tr>\n",
       "      <th>26</th>\n",
       "      <td>27</td>\n",
       "      <td>94503</td>\n",
       "      <td>6846</td>\n",
       "      <td>13.804119</td>\n",
       "    </tr>\n",
       "    <tr>\n",
       "      <th>27</th>\n",
       "      <td>28</td>\n",
       "      <td>82617</td>\n",
       "      <td>6090</td>\n",
       "      <td>13.566010</td>\n",
       "    </tr>\n",
       "    <tr>\n",
       "      <th>28</th>\n",
       "      <td>29</td>\n",
       "      <td>67988</td>\n",
       "      <td>4825</td>\n",
       "      <td>14.090777</td>\n",
       "    </tr>\n",
       "    <tr>\n",
       "      <th>29</th>\n",
       "      <td>30</td>\n",
       "      <td>80641</td>\n",
       "      <td>5265</td>\n",
       "      <td>15.316429</td>\n",
       "    </tr>\n",
       "    <tr>\n",
       "      <th>30</th>\n",
       "      <td>31</td>\n",
       "      <td>90125</td>\n",
       "      <td>5913</td>\n",
       "      <td>15.241840</td>\n",
       "    </tr>\n",
       "  </tbody>\n",
       "</table>\n",
       "</div>"
      ],
      "text/plain": [
       "    day  total_reqs  total_hosts   avg_reqs\n",
       "0     1       98710         7609  12.972795\n",
       "1     2       60265         4858  12.405311\n",
       "2     3      130972        10238  12.792733\n",
       "3     4      130009         9411  13.814579\n",
       "4     5      126468         9640  13.119087\n",
       "5     6      133380        10133  13.162933\n",
       "6     7      144595        10048  14.390426\n",
       "7     8       99024         7112  13.923510\n",
       "8     9       95730         6699  14.290193\n",
       "9    10      134108         8532  15.718237\n",
       "10   11      141653         8786  16.122581\n",
       "11   12      130607         8135  16.054948\n",
       "12   13      170683         9567  17.840807\n",
       "13   14      143981         9302  15.478499\n",
       "14   15      104379         7126  14.647628\n",
       "15   16      104507         7143  14.630687\n",
       "16   17      133969         8840  15.154864\n",
       "17   18      120528         8262  14.588235\n",
       "18   19      104832         7237  14.485560\n",
       "19   20       99556         7072  14.077489\n",
       "20   21      120169         8036  14.953833\n",
       "21   22       93029         6828  13.624634\n",
       "22   23       97296         6797  14.314551\n",
       "23   24      116811         7946  14.700604\n",
       "24   25      120020         8333  14.402976\n",
       "25   26       90457         6741  13.418929\n",
       "26   27       94503         6846  13.804119\n",
       "27   28       82617         6090  13.566010\n",
       "28   29       67988         4825  14.090777\n",
       "29   30       80641         5265  15.316429\n",
       "30   31       90125         5913  15.241840"
      ]
     },
     "execution_count": 80,
     "metadata": {},
     "output_type": "execute_result"
    }
   ],
   "source": [
    "daily_hosts_df = (host_day_distinct_df\n",
    "                     .groupBy('day')\n",
    "                     .count()\n",
    "                     .select(col(\"day\"), \n",
    "                                      col(\"count\").alias(\"total_hosts\")))\n",
    "\n",
    "total_daily_reqests_df = (logs_df\n",
    "                              .select(F.dayofmonth(\"timestamp\")\n",
    "                                          .alias(\"day\"))\n",
    "                              .groupBy(\"day\")\n",
    "                              .count()\n",
    "                              .select(col(\"day\"), \n",
    "                                      col(\"count\").alias(\"total_reqs\")))\n",
    "\n",
    "avg_daily_reqests_per_host_df = total_daily_reqests_df.join(daily_hosts_df, 'day')\n",
    "avg_daily_reqests_per_host_df = (avg_daily_reqests_per_host_df\n",
    "                                    .withColumn('avg_reqs', col('total_reqs') / col('total_hosts'))\n",
    "                                    .sort(\"day\"))\n",
    "avg_daily_reqests_per_host_df = avg_daily_reqests_per_host_df.toPandas()\n",
    "avg_daily_reqests_per_host_df"
   ]
  },
  {
   "cell_type": "code",
   "execution_count": 81,
   "id": "2067e2cc",
   "metadata": {},
   "outputs": [
    {
     "data": {
      "image/png": "[encoded data removed]",
      "text/plain": [
       "<Figure size 750x500 with 1 Axes>"
      ]
     },
     "metadata": {},
     "output_type": "display_data"
    }
   ],
   "source": [
    "c = sns.catplot(x='day', y='avg_reqs', \n",
    "                data=avg_daily_reqests_per_host_df, \n",
    "                kind='point', height=5, aspect=1.5)"
   ]
  },
  {
   "attachments": {},
   "cell_type": "markdown",
   "id": "f60c0475",
   "metadata": {},
   "source": [
    "### Counting 404 Response Codes"
   ]
  },
  {
   "cell_type": "code",
   "execution_count": 82,
   "id": "71036722",
   "metadata": {},
   "outputs": [
    {
     "name": "stderr",
     "output_type": "stream",
     "text": [
      "[Stage 156:============================>                            (1 + 1) / 2]\r"
     ]
    },
    {
     "name": "stdout",
     "output_type": "stream",
     "text": [
      "Total 404 responses: 20899\n"
     ]
    },
    {
     "name": "stderr",
     "output_type": "stream",
     "text": [
      "                                                                                \r"
     ]
    }
   ],
   "source": [
    "not_found_df = logs_df.filter(logs_df[\"status\"] == 404).cache()\n",
    "print(('Total 404 responses: {}').format(not_found_df.count()))"
   ]
  },
  {
   "attachments": {},
   "cell_type": "markdown",
   "id": "2868e567",
   "metadata": {},
   "source": [
    "### Listing the Top Twenty 404 Response Code Endpoints\n"
   ]
  },
  {
   "cell_type": "code",
   "execution_count": 83,
   "id": "c73f6e22",
   "metadata": {},
   "outputs": [
    {
     "name": "stdout",
     "output_type": "stream",
     "text": [
      "+-----------------------------------------------------------------+-----+\n",
      "|endpoint                                                         |count|\n",
      "+-----------------------------------------------------------------+-----+\n",
      "|/pub/winvn/readme.txt                                            |2004 |\n",
      "|/pub/winvn/release.txt                                           |1732 |\n",
      "|/shuttle/missions/STS-69/mission-STS-69.html                     |683  |\n",
      "|/shuttle/missions/sts-68/ksc-upclose.gif                         |428  |\n",
      "|/history/apollo/a-001/a-001-patch-small.gif                      |384  |\n",
      "|/history/apollo/sa-1/sa-1-patch-small.gif                        |383  |\n",
      "|/://spacelink.msfc.nasa.gov                                      |381  |\n",
      "|/images/crawlerway-logo.gif                                      |374  |\n",
      "|/elv/DELTA/uncons.htm                                            |372  |\n",
      "|/history/apollo/pad-abort-test-1/pad-abort-test-1-patch-small.gif|359  |\n",
      "|/images/nasa-logo.gif                                            |319  |\n",
      "|/shuttle/resources/orbiters/atlantis.gif                         |314  |\n",
      "|/history/apollo/apollo-13.html                                   |304  |\n",
      "|/shuttle/resources/orbiters/discovery.gif                        |263  |\n",
      "|/shuttle/missions/sts-71/images/KSC-95EC-0916.txt                |190  |\n",
      "|/shuttle/resources/orbiters/challenger.gif                       |170  |\n",
      "|/shuttle/missions/technology/sts-newsref/stsref-toc.html         |158  |\n",
      "|/history/apollo/images/little-joe.jpg                            |150  |\n",
      "|/images/lf-logo.gif                                              |143  |\n",
      "|/history/apollo/publications/sp-350/sp-350.txt~                  |140  |\n",
      "+-----------------------------------------------------------------+-----+\n",
      "\n"
     ]
    }
   ],
   "source": [
    "endpoints_404_count_df = (not_found_df\n",
    "                          .groupBy(\"endpoint\")\n",
    "                          .count()\n",
    "                          .sort(\"count\", ascending=False)\n",
    "                          .limit(20))\n",
    "\n",
    "endpoints_404_count_df.show(truncate=False)"
   ]
  },
  {
   "attachments": {},
   "cell_type": "markdown",
   "id": "f86661c3",
   "metadata": {},
   "source": [
    "### Listing the Top Twenty 404 Response Code Hosts\n"
   ]
  },
  {
   "cell_type": "code",
   "execution_count": 84,
   "id": "9bbe5c61",
   "metadata": {},
   "outputs": [
    {
     "name": "stdout",
     "output_type": "stream",
     "text": [
      "+---------------------------+-----+\n",
      "|host                       |count|\n",
      "+---------------------------+-----+\n",
      "|hoohoo.ncsa.uiuc.edu       |251  |\n",
      "|piweba3y.prodigy.com       |157  |\n",
      "|jbiagioni.npt.nuwc.navy.mil|132  |\n",
      "|piweba1y.prodigy.com       |114  |\n",
      "|                           |112  |\n",
      "|www-d4.proxy.aol.com       |91   |\n",
      "|piweba4y.prodigy.com       |86   |\n",
      "|scooter.pa-x.dec.com       |69   |\n",
      "|www-d1.proxy.aol.com       |64   |\n",
      "|phaelon.ksc.nasa.gov       |64   |\n",
      "|www-b4.proxy.aol.com       |62   |\n",
      "|dialip-217.den.mmc.com     |62   |\n",
      "|www-b3.proxy.aol.com       |61   |\n",
      "|www-a2.proxy.aol.com       |60   |\n",
      "|piweba2y.prodigy.com       |59   |\n",
      "|www-d2.proxy.aol.com       |59   |\n",
      "|alyssa.prodigy.com         |56   |\n",
      "|monarch.eng.buffalo.edu    |56   |\n",
      "|www-b2.proxy.aol.com       |53   |\n",
      "|www-c4.proxy.aol.com       |53   |\n",
      "+---------------------------+-----+\n",
      "\n"
     ]
    }
   ],
   "source": [
    "hosts_404_count_df = (not_found_df\n",
    "                          .groupBy(\"host\")\n",
    "                          .count()\n",
    "                          .sort(\"count\", ascending=False)\n",
    "                          .limit(20))\n",
    "\n",
    "hosts_404_count_df.show(truncate=False)"
   ]
  },
  {
   "attachments": {},
   "cell_type": "markdown",
   "id": "b0fe437c",
   "metadata": {},
   "source": [
    "### Visualizing 404 Errors per Day\n"
   ]
  },
  {
   "cell_type": "code",
   "execution_count": 86,
   "id": "f34d091a",
   "metadata": {},
   "outputs": [
    {
     "data": {
      "text/html": [
       "<div>\n",
       "<style scoped>\n",
       "    .dataframe tbody tr th:only-of-type {\n",
       "        vertical-align: middle;\n",
       "    }\n",
       "\n",
       "    .dataframe tbody tr th {\n",
       "        vertical-align: top;\n",
       "    }\n",
       "\n",
       "    .dataframe thead th {\n",
       "        text-align: right;\n",
       "    }\n",
       "</style>\n",
       "<table border=\"1\" class=\"dataframe\">\n",
       "  <thead>\n",
       "    <tr style=\"text-align: right;\">\n",
       "      <th></th>\n",
       "      <th>day</th>\n",
       "      <th>count</th>\n",
       "    </tr>\n",
       "  </thead>\n",
       "  <tbody>\n",
       "    <tr>\n",
       "      <th>0</th>\n",
       "      <td>1</td>\n",
       "      <td>559</td>\n",
       "    </tr>\n",
       "    <tr>\n",
       "      <th>1</th>\n",
       "      <td>2</td>\n",
       "      <td>291</td>\n",
       "    </tr>\n",
       "    <tr>\n",
       "      <th>2</th>\n",
       "      <td>3</td>\n",
       "      <td>778</td>\n",
       "    </tr>\n",
       "    <tr>\n",
       "      <th>3</th>\n",
       "      <td>4</td>\n",
       "      <td>705</td>\n",
       "    </tr>\n",
       "    <tr>\n",
       "      <th>4</th>\n",
       "      <td>5</td>\n",
       "      <td>733</td>\n",
       "    </tr>\n",
       "    <tr>\n",
       "      <th>5</th>\n",
       "      <td>6</td>\n",
       "      <td>1013</td>\n",
       "    </tr>\n",
       "    <tr>\n",
       "      <th>6</th>\n",
       "      <td>7</td>\n",
       "      <td>1107</td>\n",
       "    </tr>\n",
       "    <tr>\n",
       "      <th>7</th>\n",
       "      <td>8</td>\n",
       "      <td>691</td>\n",
       "    </tr>\n",
       "    <tr>\n",
       "      <th>8</th>\n",
       "      <td>9</td>\n",
       "      <td>627</td>\n",
       "    </tr>\n",
       "    <tr>\n",
       "      <th>9</th>\n",
       "      <td>10</td>\n",
       "      <td>713</td>\n",
       "    </tr>\n",
       "    <tr>\n",
       "      <th>10</th>\n",
       "      <td>11</td>\n",
       "      <td>734</td>\n",
       "    </tr>\n",
       "    <tr>\n",
       "      <th>11</th>\n",
       "      <td>12</td>\n",
       "      <td>667</td>\n",
       "    </tr>\n",
       "    <tr>\n",
       "      <th>12</th>\n",
       "      <td>13</td>\n",
       "      <td>748</td>\n",
       "    </tr>\n",
       "    <tr>\n",
       "      <th>13</th>\n",
       "      <td>14</td>\n",
       "      <td>700</td>\n",
       "    </tr>\n",
       "    <tr>\n",
       "      <th>14</th>\n",
       "      <td>15</td>\n",
       "      <td>581</td>\n",
       "    </tr>\n",
       "    <tr>\n",
       "      <th>15</th>\n",
       "      <td>16</td>\n",
       "      <td>516</td>\n",
       "    </tr>\n",
       "    <tr>\n",
       "      <th>16</th>\n",
       "      <td>17</td>\n",
       "      <td>677</td>\n",
       "    </tr>\n",
       "    <tr>\n",
       "      <th>17</th>\n",
       "      <td>18</td>\n",
       "      <td>721</td>\n",
       "    </tr>\n",
       "    <tr>\n",
       "      <th>18</th>\n",
       "      <td>19</td>\n",
       "      <td>848</td>\n",
       "    </tr>\n",
       "    <tr>\n",
       "      <th>19</th>\n",
       "      <td>20</td>\n",
       "      <td>740</td>\n",
       "    </tr>\n",
       "    <tr>\n",
       "      <th>20</th>\n",
       "      <td>21</td>\n",
       "      <td>639</td>\n",
       "    </tr>\n",
       "    <tr>\n",
       "      <th>21</th>\n",
       "      <td>22</td>\n",
       "      <td>480</td>\n",
       "    </tr>\n",
       "    <tr>\n",
       "      <th>22</th>\n",
       "      <td>23</td>\n",
       "      <td>578</td>\n",
       "    </tr>\n",
       "    <tr>\n",
       "      <th>23</th>\n",
       "      <td>24</td>\n",
       "      <td>748</td>\n",
       "    </tr>\n",
       "    <tr>\n",
       "      <th>24</th>\n",
       "      <td>25</td>\n",
       "      <td>876</td>\n",
       "    </tr>\n",
       "    <tr>\n",
       "      <th>25</th>\n",
       "      <td>26</td>\n",
       "      <td>702</td>\n",
       "    </tr>\n",
       "    <tr>\n",
       "      <th>26</th>\n",
       "      <td>27</td>\n",
       "      <td>706</td>\n",
       "    </tr>\n",
       "    <tr>\n",
       "      <th>27</th>\n",
       "      <td>28</td>\n",
       "      <td>504</td>\n",
       "    </tr>\n",
       "    <tr>\n",
       "      <th>28</th>\n",
       "      <td>29</td>\n",
       "      <td>420</td>\n",
       "    </tr>\n",
       "    <tr>\n",
       "      <th>29</th>\n",
       "      <td>30</td>\n",
       "      <td>571</td>\n",
       "    </tr>\n",
       "    <tr>\n",
       "      <th>30</th>\n",
       "      <td>31</td>\n",
       "      <td>526</td>\n",
       "    </tr>\n",
       "  </tbody>\n",
       "</table>\n",
       "</div>"
      ],
      "text/plain": [
       "    day  count\n",
       "0     1    559\n",
       "1     2    291\n",
       "2     3    778\n",
       "3     4    705\n",
       "4     5    733\n",
       "5     6   1013\n",
       "6     7   1107\n",
       "7     8    691\n",
       "8     9    627\n",
       "9    10    713\n",
       "10   11    734\n",
       "11   12    667\n",
       "12   13    748\n",
       "13   14    700\n",
       "14   15    581\n",
       "15   16    516\n",
       "16   17    677\n",
       "17   18    721\n",
       "18   19    848\n",
       "19   20    740\n",
       "20   21    639\n",
       "21   22    480\n",
       "22   23    578\n",
       "23   24    748\n",
       "24   25    876\n",
       "25   26    702\n",
       "26   27    706\n",
       "27   28    504\n",
       "28   29    420\n",
       "29   30    571\n",
       "30   31    526"
      ]
     },
     "execution_count": 86,
     "metadata": {},
     "output_type": "execute_result"
    }
   ],
   "source": [
    "errors_by_date_sorted_df = (not_found_df\n",
    "                                .groupBy(F.dayofmonth('timestamp').alias('day'))\n",
    "                                .count()\n",
    "                                .sort(\"day\"))\n",
    "\n",
    "errors_by_date_sorted_pd_df = errors_by_date_sorted_df.toPandas()\n",
    "errors_by_date_sorted_pd_df"
   ]
  },
  {
   "cell_type": "code",
   "execution_count": 87,
   "id": "c9315049",
   "metadata": {},
   "outputs": [
    {
     "data": {
      "image/png": "[encoded data removed]",
      "text/plain": [
       "<Figure size 750x500 with 1 Axes>"
      ]
     },
     "metadata": {},
     "output_type": "display_data"
    }
   ],
   "source": [
    "c = sns.catplot(x='day', y='count', \n",
    "                data=errors_by_date_sorted_pd_df, \n",
    "                kind='point', height=5, aspect=1.5)"
   ]
  },
  {
   "attachments": {},
   "cell_type": "markdown",
   "id": "f902c4c4",
   "metadata": {},
   "source": [
    "### Top Three Days for 404 Errors\n"
   ]
  },
  {
   "cell_type": "code",
   "execution_count": 88,
   "id": "04a6eeb4",
   "metadata": {},
   "outputs": [
    {
     "name": "stdout",
     "output_type": "stream",
     "text": [
      "+---+-----+\n",
      "|day|count|\n",
      "+---+-----+\n",
      "|  7| 1107|\n",
      "|  6| 1013|\n",
      "| 25|  876|\n",
      "+---+-----+\n",
      "only showing top 3 rows\n",
      "\n"
     ]
    }
   ],
   "source": [
    "(errors_by_date_sorted_df\n",
    "    .sort(\"count\", ascending=False)\n",
    "    .show(3))"
   ]
  },
  {
   "attachments": {},
   "cell_type": "markdown",
   "id": "bdb397b0",
   "metadata": {},
   "source": [
    "### Visualizing Hourly 404 Errors\n"
   ]
  },
  {
   "cell_type": "code",
   "execution_count": 90,
   "id": "aa8a0fe3",
   "metadata": {},
   "outputs": [
    {
     "data": {
      "image/png": "[encoded data removed]",
      "text/plain": [
       "<Figure size 750x500 with 1 Axes>"
      ]
     },
     "metadata": {},
     "output_type": "display_data"
    }
   ],
   "source": [
    "hourly_avg_errors_sorted_df = (not_found_df\n",
    "                                   .groupBy(F.hour('timestamp')\n",
    "                                             .alias('hour'))\n",
    "                                   .count()\n",
    "                                   .sort('hour'))\n",
    "hourly_avg_errors_sorted_pd_df = hourly_avg_errors_sorted_df.toPandas()\n",
    "\n",
    "c = sns.catplot(x='hour', y='count', \n",
    "                data=hourly_avg_errors_sorted_pd_df, \n",
    "                kind='bar', height=5, aspect=1.5)"
   ]
  },
  {
   "attachments": {},
   "cell_type": "markdown",
   "id": "047f27cc-fa86-4e0a-9de3-b77933dd34c8",
   "metadata": {},
   "source": [
    "## 3.1\n",
    "Generate the output presenting the endpoint that received the highest number of invocations on a specific day of the week, along with the corresponding count of invocations."
   ]
  },
  {
   "cell_type": "code",
   "execution_count": 5,
   "id": "fa603896-3549-4811-8267-038d52fa294c",
   "metadata": {},
   "outputs": [
    {
     "name": "stderr",
     "output_type": "stream",
     "text": [
      "[Stage 24:===============================================>        (63 + 8) / 75]\r"
     ]
    },
    {
     "name": "stdout",
     "output_type": "stream",
     "text": [
      "+-------------+--------------------------+-----+\n",
      "|Day in a week|endpoint                  |count|\n",
      "+-------------+--------------------------+-----+\n",
      "|Wednesday    |/images/NASA-logosmall.gif|37598|\n",
      "|Tuesday      |/images/NASA-logosmall.gif|33685|\n",
      "|Friday       |/images/NASA-logosmall.gif|29139|\n",
      "|Thursday     |/images/NASA-logosmall.gif|46920|\n",
      "|Saturday     |/images/NASA-logosmall.gif|16168|\n",
      "|Monday       |/images/NASA-logosmall.gif|30380|\n",
      "|Sunday       |/images/KSC-logosmall.gif |15218|\n",
      "+-------------+--------------------------+-----+\n",
      "\n"
     ]
    },
    {
     "name": "stderr",
     "output_type": "stream",
     "text": [
      "                                                                                \r"
     ]
    }
   ],
   "source": [
    "top_invocation = endpoint_invocations_by_day(logs_df)\n",
    "\n",
    "top_invocation.show(truncate=False)"
   ]
  },
  {
   "attachments": {},
   "cell_type": "markdown",
   "id": "4955ba14-a1a8-4791-88ad-d4393bff64f9",
   "metadata": {},
   "source": [
    "## 3.2\n",
    "Total number of 404 status codes generated in each day of a week(For Monday, Tuesday,..… Sunday) for the entire dataset."
   ]
  },
  {
   "cell_type": "code",
   "execution_count": 3,
   "id": "85222e8b-b4b7-4c24-804d-87904f3a3e9c",
   "metadata": {},
   "outputs": [
    {
     "name": "stderr",
     "output_type": "stream",
     "text": [
      "[Stage 4:=============================>                             (1 + 1) / 2]\r"
     ]
    },
    {
     "name": "stdout",
     "output_type": "stream",
     "text": [
      "+-------------+------+-----+\n",
      "|Day in a week|status|count|\n",
      "+-------------+------+-----+\n",
      "|Friday       |404   |2691 |\n",
      "|Tuesday      |404   |3425 |\n",
      "|Monday       |404   |3145 |\n",
      "|Sunday       |404   |2400 |\n",
      "|Wednesday    |404   |3397 |\n",
      "|Thursday     |404   |3772 |\n",
      "|Saturday     |404   |2069 |\n",
      "+-------------+------+-----+\n",
      "\n"
     ]
    },
    {
     "name": "stderr",
     "output_type": "stream",
     "text": [
      "                                                                                \r"
     ]
    }
   ],
   "source": [
    "status404_Count = status404_Count_by_Day(logs_df)\n",
    "\n",
    "status404_Count.show(truncate=False)"
   ]
  },
  {
   "cell_type": "code",
   "execution_count": null,
   "id": "2d569e87-09ea-4c98-be6e-38c019d9488f",
   "metadata": {},
   "outputs": [
    {
     "name": "stderr",
     "output_type": "stream",
     "text": [
      "                                                                                \r"
     ]
    },
    {
     "data": {
      "text/plain": [
       "<AxesSubplot: xlabel='Day in a week', ylabel='count'>"
      ]
     },
     "execution_count": 4,
     "metadata": {},
     "output_type": "execute_result"
    },
    {
     "data": {
      "image/png": "[encoded data removed]",
      "text/plain": [
       "<Figure size 640x480 with 1 Axes>"
      ]
     },
     "metadata": {},
     "output_type": "display_data"
    }
   ],
   "source": [
    "import matplotlib.pyplot as plt\n",
    "import seaborn as sns\n",
    "\n",
    "sns.set_theme()\n",
    "\n",
    "status_df = (status404_Count.toPandas().sort_values(by=['count'], ascending=False))\n",
    "\n",
    "# using lineplot \n",
    "sns.lineplot(x='Day in a week', y='count', data=status_df) \n",
    "\n",
    "# sns.barplot(x='Day in a week', y='count', data=status_df)"
   ]
  }
 ],
 "metadata": {
  "kernelspec": {
   "display_name": "Python 3 (ipykernel)",
   "language": "python",
   "name": "python3"
  },
  "language_info": {
   "codemirror_mode": {
    "name": "ipython",
    "version": 3
   },
   "file_extension": ".py",
   "mimetype": "text/x-python",
   "name": "python",
   "nbconvert_exporter": "python",
   "pygments_lexer": "ipython3",
   "version": "3.10.0"
  }
 },
 "nbformat": 4,
 "nbformat_minor": 5
}
